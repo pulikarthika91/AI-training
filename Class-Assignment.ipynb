{
 "cells": [
  {
   "cell_type": "code",
   "execution_count": null,
   "id": "572d69c8-b11d-4155-9191-9ea80cd8f440",
   "metadata": {},
   "outputs": [
    {
     "name": "stdout",
     "output_type": "stream",
     "text": [
      "Machine Learning\n",
      "Neural Networks\n",
      "Vision\n",
      "Robotics\n",
      "Speech Processing\n",
      "Natural Language Processing\n",
      "Sub-fields in AI are:\n"
     ]
    }
   ],
   "source": [
    "from classAssignment import MultipleFunction\n",
    "MultipleFunction.Subfields()\n",
    "MultipleFunction.OddEven()\n",
    "MultipleFunction.Elegible()\n",
    "MultipleFunction.getPercentage()\n",
    "MultipleFunction.areaofTriangle()"
   ]
  },
  {
   "cell_type": "code",
   "execution_count": null,
   "id": "9a30c70a-5bc9-4865-b364-a9c6bf766773",
   "metadata": {},
   "outputs": [],
   "source": []
  }
 ],
 "metadata": {
  "kernelspec": {
   "display_name": "Python 3 (ipykernel)",
   "language": "python",
   "name": "python3"
  },
  "language_info": {
   "codemirror_mode": {
    "name": "ipython",
    "version": 3
   },
   "file_extension": ".py",
   "mimetype": "text/x-python",
   "name": "python",
   "nbconvert_exporter": "python",
   "pygments_lexer": "ipython3",
   "version": "3.12.4"
  }
 },
 "nbformat": 4,
 "nbformat_minor": 5
}
