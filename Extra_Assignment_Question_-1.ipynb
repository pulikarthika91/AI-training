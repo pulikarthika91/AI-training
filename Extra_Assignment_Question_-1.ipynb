{
 "cells": [
  {
   "cell_type": "code",
   "execution_count": 1,
   "id": "6fada736-f852-4f49-a8dc-b964e41875f1",
   "metadata": {},
   "outputs": [
    {
     "name": "stdout",
     "output_type": "stream",
     "text": [
      "HOPE AI\n"
     ]
    }
   ],
   "source": [
    "#print statement\n",
    "print(\"HOPE AI\")"
   ]
  },
  {
   "cell_type": "code",
   "execution_count": 5,
   "id": "771090d4-6cb2-4ff1-b458-cb87bfd7d4ae",
   "metadata": {},
   "outputs": [
    {
     "name": "stdin",
     "output_type": "stream",
     "text": [
      "Enter your Institute name? Hope AI\n"
     ]
    }
   ],
   "source": [
    "#buy inputs\n",
    "institute_name=input(\"Enter your Institute name?\")\n"
   ]
  },
  {
   "cell_type": "code",
   "execution_count": 7,
   "id": "515795af-84fa-4676-a231-f00dfe52d808",
   "metadata": {},
   "outputs": [
    {
     "name": "stdin",
     "output_type": "stream",
     "text": [
      "Enter your name:  Raj\n",
      "Enter your age:  16\n",
      "Enter your School name:  Guru School\n",
      "Enter your degree:  B.E CSE\n"
     ]
    }
   ],
   "source": [
    "#buy inputs\n",
    "name=input(\"Enter your name: \")\n",
    "age=int(input(\"Enter your age: \"))\n",
    "school_name=input(\"Enter your School name: \")\n",
    "name=input(\"Enter your degree: \")"
   ]
  },
  {
   "cell_type": "code",
   "execution_count": 15,
   "id": "18c80ec8-cd56-4033-a9e9-f2a09ad3cf79",
   "metadata": {},
   "outputs": [
    {
     "name": "stdout",
     "output_type": "stream",
     "text": [
      "a=  34\n",
      "b=  43\n",
      "add =  77\n"
     ]
    }
   ],
   "source": [
    "#addition\n",
    "a=34\n",
    "b=43\n",
    "add=a+b\n",
    "print(\"a= \",a)\n",
    "print(\"b= \",b)\n",
    "print(\"add = \",add)"
   ]
  },
  {
   "cell_type": "code",
   "execution_count": 19,
   "id": "1e78e5c7-3842-4faf-a7df-28bcefa1f374",
   "metadata": {},
   "outputs": [
    {
     "name": "stdout",
     "output_type": "stream",
     "text": [
      "a=  43\n",
      "b=  34\n",
      "sub =  9\n"
     ]
    }
   ],
   "source": [
    "#subtraction\n",
    "a=43\n",
    "b=34\n",
    "sub=a-b\n",
    "print(\"a= \",a)\n",
    "print(\"b= \",b)\n",
    "print(\"sub = \",sub)"
   ]
  },
  {
   "cell_type": "code",
   "execution_count": 25,
   "id": "8a74fa38-0cd3-4754-9f55-34e34e8bf16e",
   "metadata": {},
   "outputs": [
    {
     "name": "stdout",
     "output_type": "stream",
     "text": [
      "a=  63\n",
      "b=  97\n",
      "mul =  6111\n"
     ]
    }
   ],
   "source": [
    "#Multiplication\n",
    "a=63\n",
    "b=97\n",
    "mul=a*b\n",
    "print(\"a= \",a)\n",
    "print(\"b= \",b)\n",
    "print(\"mul = \",mul)"
   ]
  },
  {
   "cell_type": "code",
   "execution_count": 27,
   "id": "fc9546f2-d2d5-4868-b72b-a2091ab5f6d5",
   "metadata": {},
   "outputs": [
    {
     "name": "stdout",
     "output_type": "stream",
     "text": [
      "a=  76\n",
      "b=  31\n",
      "Float Div =  2.4516129032258065\n"
     ]
    }
   ],
   "source": [
    "#Division\n",
    "a=76\n",
    "b=31\n",
    "div=a/b\n",
    "print(\"a= \",a)\n",
    "print(\"b= \",b)\n",
    "print(\"Float Div = \",div)"
   ]
  },
  {
   "cell_type": "code",
   "execution_count": 29,
   "id": "91fa236b-c90a-4f49-a836-027c05ef8372",
   "metadata": {},
   "outputs": [
    {
     "name": "stdout",
     "output_type": "stream",
     "text": [
      "a=  76\n",
      "b=  31\n",
      "Floor Div =  2\n"
     ]
    }
   ],
   "source": [
    "#Floor Division\n",
    "a=76\n",
    "b=31\n",
    "div=a//b\n",
    "print(\"a= \",a)\n",
    "print(\"b= \",b)\n",
    "print(\"Floor Div = \",div)"
   ]
  },
  {
   "cell_type": "code",
   "execution_count": 31,
   "id": "d9c36151-3635-4018-97c7-2b8f01a635bc",
   "metadata": {},
   "outputs": [
    {
     "name": "stdout",
     "output_type": "stream",
     "text": [
      "a=  76\n",
      "b=  31\n",
      "modulo =  14\n"
     ]
    }
   ],
   "source": [
    "#Modulo\n",
    "a=76\n",
    "b=31\n",
    "mod=a%b\n",
    "print(\"a= \",a)\n",
    "print(\"b= \",b)\n",
    "print(\"modulo = \",mod)"
   ]
  },
  {
   "cell_type": "code",
   "execution_count": null,
   "id": "58446fde-ef3c-42f9-bff8-88253997e453",
   "metadata": {},
   "outputs": [],
   "source": [
    "#power\n",
    "a=4"
   ]
  }
 ],
 "metadata": {
  "kernelspec": {
   "display_name": "Python 3 (ipykernel)",
   "language": "python",
   "name": "python3"
  },
  "language_info": {
   "codemirror_mode": {
    "name": "ipython",
    "version": 3
   },
   "file_extension": ".py",
   "mimetype": "text/x-python",
   "name": "python",
   "nbconvert_exporter": "python",
   "pygments_lexer": "ipython3",
   "version": "3.12.4"
  }
 },
 "nbformat": 4,
 "nbformat_minor": 5
}
