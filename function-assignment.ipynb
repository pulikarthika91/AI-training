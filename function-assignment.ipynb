{
 "cells": [
  {
   "cell_type": "code",
   "execution_count": 13,
   "id": "4bc1f1d6-5547-4d0f-9da6-83b492f71e5b",
   "metadata": {},
   "outputs": [
    {
     "name": "stdout",
     "output_type": "stream",
     "text": [
      "Sub-fields in AI are:\n",
      "Machine Learning\n",
      "Neural Networks\n",
      "Vision\n",
      "Robotics\n",
      "Speech Processing\n",
      "Natural Language Processing\n"
     ]
    }
   ],
   "source": [
    "# Create a class and function, and list out the items in the list\n",
    "def Subfields():\n",
    "    sublistinAI=[\"Machine Learning\",\"Neural Networks\",\"Vision\",\"Robotics\",\"Speech Processing\",\"Natural Language Processing\"]\n",
    "    for sub in sublistinAI:\n",
    "        print(sub)\n",
    "print(\"Sub-fields in AI are:\")\n",
    "Subfields()\n",
    "    "
   ]
  },
  {
   "cell_type": "code",
   "execution_count": 26,
   "id": "e5a470be-6f2d-41f1-b0fc-45fff6d76d5c",
   "metadata": {},
   "outputs": [
    {
     "name": "stdin",
     "output_type": "stream",
     "text": [
      "Enter a number: 57\n"
     ]
    },
    {
     "name": "stdout",
     "output_type": "stream",
     "text": [
      "57  is an odd number\n"
     ]
    }
   ],
   "source": [
    "# Create a function that checks whether the given number is Odd or Even\n",
    "def OddEven():\n",
    "    num=int(input(\"Enter a number:\"))\n",
    "    if(num%2==0):        \n",
    "        print(num,\" is an Even number\")\n",
    "    else:        \n",
    "        print(num,\" is an odd number\")\n",
    "OddEven()"
   ]
  },
  {
   "cell_type": "code",
   "execution_count": 66,
   "id": "a79779a6-f947-4dd3-b7db-44c5cf7da631",
   "metadata": {},
   "outputs": [
    {
     "name": "stdin",
     "output_type": "stream",
     "text": [
      "Your Gender: Female\n",
      "Your Age: 12\n"
     ]
    },
    {
     "name": "stdout",
     "output_type": "stream",
     "text": [
      "NOT ELIGIBLE\n"
     ]
    }
   ],
   "source": [
    "# Create a function that tells elegibility of marriage for male and female according to their age limit like 21 for male and 18 for female\n",
    "def Elegible():\n",
    "    gender=input(\"Your Gender:\")\n",
    "    age=int(input(\"Your Age:\"))\n",
    "    if(age>=21 and gender==\"Male\"):\n",
    "        print(\"ELIGIBLE\")\n",
    "    elif(age>=18 and gender==\"Female\"):\n",
    "        print(\"ELIGIBLE\")\n",
    "    else:\n",
    "        print(\"NOT ELIGIBLE\")\n",
    "\n",
    "Elegible()"
   ]
  },
  {
   "cell_type": "code",
   "execution_count": 74,
   "id": "88284a2f-e7d0-4a7e-a471-b87a92772cb8",
   "metadata": {},
   "outputs": [
    {
     "name": "stdin",
     "output_type": "stream",
     "text": [
      "Subject1 90\n",
      "Subject2 90\n",
      "Subject3 90\n",
      "Subject4 90\n",
      "Subject5 90\n"
     ]
    },
    {
     "name": "stdout",
     "output_type": "stream",
     "text": [
      "Total :  450\n",
      "Percentage :  90.0\n"
     ]
    }
   ],
   "source": [
    "# calculate the percentage of your 10th mark\n",
    "def getPercentage():\n",
    "    Subject1= int(input(\"Subject1\"))\n",
    "    Subject2= int(input(\"Subject2\"))\n",
    "    Subject3= int(input(\"Subject3\"))\n",
    "    Subject4= int(input(\"Subject4\"))\n",
    "    Subject5= int(input(\"Subject5\"))\n",
    "    total=Subject1+Subject2+Subject3+Subject4+Subject5\n",
    "    print(\"Total : \",total)\n",
    "    percentage=((total/5)*100)/100\n",
    "    print(\"Percentage : \", percentage)\n",
    "getPercentage()\n"
   ]
  },
  {
   "cell_type": "code",
   "execution_count": 82,
   "id": "58074578-d842-4459-ada7-951ecddc55fe",
   "metadata": {},
   "outputs": [
    {
     "name": "stdin",
     "output_type": "stream",
     "text": [
      "Height: 9\n",
      "Breadth: 8\n"
     ]
    },
    {
     "name": "stdout",
     "output_type": "stream",
     "text": [
      "Area of Triangle:  36.0\n"
     ]
    },
    {
     "name": "stdin",
     "output_type": "stream",
     "text": [
      "Height1: 9\n",
      "Height2: 8\n",
      "Breadth: 7\n"
     ]
    },
    {
     "name": "stdout",
     "output_type": "stream",
     "text": [
      "Perimeter of Triangle:  24\n"
     ]
    }
   ],
   "source": [
    "#print area and perimeter of triangle using class and functions\n",
    "def areaofTriangle():\n",
    "    height=int(input(\"Height:\"))\n",
    "    breadth=int(input(\"Breadth:\"))\n",
    "    area=(height*breadth)/2\n",
    "    print(\"Area of Triangle: \",area)\n",
    "\n",
    "    \n",
    "def perimeterofTriangle():\n",
    "    height1=int(input(\"Height1:\"))\n",
    "    height2=int(input(\"Height2:\"))\n",
    "    breadth1=int(input(\"Breadth:\"))\n",
    "    perimeter=height1+height2+breadth1\n",
    "    print(\"Perimeter of Triangle: \",perimeter)\n",
    "\n",
    "areaofTriangle()\n",
    "perimeterofTriangle()\n"
   ]
  },
  {
   "cell_type": "code",
   "execution_count": null,
   "id": "2748f5a8-adc6-425a-bf3d-eba6a2bb892b",
   "metadata": {},
   "outputs": [],
   "source": []
  }
 ],
 "metadata": {
  "kernelspec": {
   "display_name": "Python 3 (ipykernel)",
   "language": "python",
   "name": "python3"
  },
  "language_info": {
   "codemirror_mode": {
    "name": "ipython",
    "version": 3
   },
   "file_extension": ".py",
   "mimetype": "text/x-python",
   "name": "python",
   "nbconvert_exporter": "python",
   "pygments_lexer": "ipython3",
   "version": "3.12.4"
  }
 },
 "nbformat": 4,
 "nbformat_minor": 5
}
