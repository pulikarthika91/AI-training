{
 "cells": [
  {
   "cell_type": "code",
   "execution_count": 3,
   "id": "1ba70241-11ce-4f7e-ad21-9de9534254e5",
   "metadata": {},
   "outputs": [
    {
     "name": "stdout",
     "output_type": "stream",
     "text": [
      "Welcome to Assignment - 1\n"
     ]
    }
   ],
   "source": [
    "print(\"Welcome to Assignment - 1\")"
   ]
  },
  {
   "cell_type": "code",
   "execution_count": 7,
   "id": "3d856712-65ae-40d4-a23f-a24ab02272ca",
   "metadata": {},
   "outputs": [
    {
     "name": "stdout",
     "output_type": "stream",
     "text": [
      "Num1= 10\n",
      "Num2= 30\n",
      "Add= 40\n"
     ]
    }
   ],
   "source": [
    "num1=10\n",
    "num2=30\n",
    "add=num1+num2\n",
    "print(\"Num1=\",num1)\n",
    "print(\"Num2=\",num2)\n",
    "print(\"Add=\",add)"
   ]
  },
  {
   "cell_type": "code",
   "execution_count": 13,
   "id": "0bc166f8-fdfe-4a48-9e52-e6d7febd5c5a",
   "metadata": {},
   "outputs": [
    {
     "name": "stdin",
     "output_type": "stream",
     "text": [
      "Enter the Body Mass Index: 34\n"
     ]
    },
    {
     "name": "stdout",
     "output_type": "stream",
     "text": [
      "Obesity class I\n"
     ]
    }
   ],
   "source": [
    "#Body Mass Index\n",
    "bmi=float(input(\"Enter the Body Mass Index:\"))\n",
    "if(bmi<18.5):\n",
    "    print(\"Under weight\")\n",
    "elif(bmi>=18.5 and bmi<=24.9):\n",
    "    print(\"Normal weight\")\n",
    "elif(bmi>=25 and bmi<=29.9):\n",
    "    print(\"Over weight\")\n",
    "else \n",
    "elif(bmi>=30.0 and bmi<=34.9):\n",
    "    print(\"Obesity class I\")\n",
    "elif(bmi>=35 and bmi<=39.9):\n",
    "    print(\"Obesity class II\")\n",
    "elif(bmi>=40 ):\n",
    "    print(\"obesity class III\")\n"
   ]
  },
  {
   "cell_type": "code",
   "execution_count": null,
   "id": "6ed5bb50-6da6-4404-9667-719854762d05",
   "metadata": {},
   "outputs": [],
   "source": []
  }
 ],
 "metadata": {
  "kernelspec": {
   "display_name": "Python 3 (ipykernel)",
   "language": "python",
   "name": "python3"
  },
  "language_info": {
   "codemirror_mode": {
    "name": "ipython",
    "version": 3
   },
   "file_extension": ".py",
   "mimetype": "text/x-python",
   "name": "python",
   "nbconvert_exporter": "python",
   "pygments_lexer": "ipython3",
   "version": "3.12.4"
  }
 },
 "nbformat": 4,
 "nbformat_minor": 5
}
